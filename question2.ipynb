{
 "cells": [
  {
   "cell_type": "code",
   "execution_count": 1,
   "metadata": {
    "collapsed": true
   },
   "outputs": [],
   "source": [
    "%matplotlib inline\n",
    "import numpy as np\n",
    "import matplotlib.pyplot as plt\n",
    "\n",
    "def save_maxfig(fig,fig_name):\n",
    "    fig.set_size_inches(5, 5)\n",
    "    plt.savefig(fig_name,dpi=300)"
   ]
  },
  {
   "cell_type": "markdown",
   "metadata": {},
   "source": [
    "## A\n",
    "CPT claims that people gives subjective probabilties (SPs) for different outcomes. CPT presdicts that people gives SPs for low prizes that are smaller than the real ones and higher for big prizes. The equation for this is given:\n",
    "$$w(p)=\\frac{p^\\gamma}{(p^\\gamma+(1-p)^\\gamma)^\\frac{1}{\\gamma}}$$\n",
    "Priority hueristics:\n",
    "A - (999\\$,0.001), B - (-1\\$,0.999)\n",
    "Value minimum gain: A = 0, B = -1. Difference between the minimum gains of A and B (1\\$) is smaller than 10% of the maximum gain (0.1*999\\$=99\\$).\n",
    "Therefore, we'll compare the probabilities of the minimum gain: $$P_A = 0.999, P_B = 0.999$$ \n",
    "The difference between the probabilities is smaller than 0.1 (0). Hence, we'll choose the option with the bigger prize - **option A**.\n"
   ]
  },
  {
   "cell_type": "markdown",
   "metadata": {},
   "source": [
    "## B\n",
    "Decreasing the prize, so that the difference between the minimum gains of A and B will be bigger than the 10% of the maximum gain. That will be true for prize equal to 9\\$."
   ]
  },
  {
   "cell_type": "code",
   "execution_count": 41,
   "metadata": {},
   "outputs": [
    {
     "name": "stdout",
     "output_type": "stream",
     "text": [
      "0.903626333101\n-0.0118118959785\n"
     ]
    }
   ],
   "source": [
    "def w(p,gamma):\n",
    "    w = p**gamma\n",
    "    w1 = (p**gamma+(1-p)**gamma)\n",
    "    w1 = w1**(1/gamma)\n",
    "    w = w/w1\n",
    "    return w\n",
    "prize = 5\n",
    "print prize * w(0.1,0.64)\n",
    "print -1 * w(0.001,0.64)"
   ]
  },
  {
   "cell_type": "markdown",
   "metadata": {},
   "source": [
    "# C"
   ]
  },
  {
   "cell_type": "code",
   "execution_count": 45,
   "metadata": {},
   "outputs": [
    {
     "name": "stdout",
     "output_type": "stream",
     "text": [
      "The better option by CPT is:  i\n"
     ]
    }
   ],
   "source": [
    "options = {'i': 10*w(1./3.,0.64) + 25*w(1./3.,0.64) + 40*w(1./3.,0.64), 'ii': 20*w(1./2.,0.64) + 30*w(1./2.,0.64)}\n",
    "print 'The better option by CPT is: option ', options.keys()[options.values().index(np.max(options.values()))]"
   ]
  },
  {
   "cell_type": "markdown",
   "metadata": {},
   "source": [
    "# D\n",
    "Experiment 1:  \n",
    "\n",
    "A (1M\\$,100%)\n",
    "B (1M\\$,89%)\n",
    "  (0\\$,1%)\n",
    "  (5M\\$,10%)\n",
    "Experiment 2:\n",
    "A (1M\\$,11%)\n",
    "  (0\\$,89%)\n",
    "B (0\\$,90%)\n",
    "  (5M\\$,10%)\n",
    "\n",
    "## SEE assignment 4"
   ]
  },
  {
   "cell_type": "code",
   "execution_count": 146,
   "metadata": {},
   "outputs": [
    {
     "name": "stdout",
     "output_type": "stream",
     "text": [
      "[ 1000000.        0.] [ 100.    1.] [1, 5000000]\nIn the first  experiment priority heuristic predict that people will choose:\nB\n[ 0.  0.] [ 89.  90.] [1, 5000000]\nIn the second  experiment priority heuristic predict that people will choose:\nB\n"
     ]
    }
   ],
   "source": [
    "def priority_heuristic(experiment1, I):\n",
    "    mng = np.zeros(2) # minimum gain\n",
    "    mxg = [100,0] # maximum gain\n",
    "    mp = np.zeros(2) # minimum probability\n",
    "    i = 0\n",
    "    for o in experiment1:\n",
    "        temp = experiment1[o]\n",
    "        mng[i] = np.min(temp[:,0])\n",
    "        mp[i] = temp[np.where(temp[:,0]==mng[i]),1]\n",
    "        tempmax = np.max([mxg[1],np.max(temp[:,0])])\n",
    "        if tempmax != mxg[1]:\n",
    "            mxg[0] = i\n",
    "        mxg[1] = tempmax\n",
    "        i += 1\n",
    "    print mng, mp, mxg\n",
    "    print 'In the',I,' experiment priority heuristic predict that people will choose:'\n",
    "    options = experiment1.keys()\n",
    "    if np.abs(mng[0]-mng[1]) > 0.1*mxg[1]:\n",
    "        print options[np.where(mng==np.min(mng))[0][0]]\n",
    "    elif np.abs(mp[0]-mp[1]) > 10:\n",
    "        print options[np.where(mp==np.min(mp))[0][0]]\n",
    "    else:\n",
    "        print options[mxg[0]]\n",
    "        \n",
    "experiment1 = {'A':np.array([[1000000,100]]),'B':np.array([[1000000,89],[0,1],[5000000,10]])}\n",
    "experiment2 = {'A':np.array([[1000000,11],[0,89]]),'B':np.array([[0,90],[5000000,10]])}\n",
    "priority_heuristic(experiment1, 'first')\n",
    "priority_heuristic(experiment2, 'second')"
   ]
  },
  {
   "cell_type": "markdown",
   "metadata": {},
   "source": [
    "# E\n"
   ]
  },
  {
   "cell_type": "code",
   "execution_count": 147,
   "metadata": {},
   "outputs": [
    {
     "name": "stdout",
     "output_type": "stream",
     "text": [
      "[ 0.  0.] [ 71.  62.] [0, 5.0]\nIn the first  experiment priority heuristic predict that people will choose:\nA\n[ 0.  0.] [ 54.  62.] [1, 4.5]\nIn the second  experiment priority heuristic predict that people will choose:\nB\n[ 0.  0.] [ 71.  54.] [0, 5]\nIn the third  experiment priority heuristic predict that people will choose:\nC\n"
     ]
    }
   ],
   "source": [
    "experiment1 = {'A':np.array([[5,29],[0,71]]),'B':np.array([[4.5,38],[0,62]])}\n",
    "experiment2 = {'B':np.array([[4.5,38],[0,62]]),'C':np.array([[4,46],[0,54]])}\n",
    "experiment3 = {'A':np.array([[5,29],[0,71]]),'C':np.array([[4,46],[0,54]])}\n",
    "priority_heuristic(experiment1, 'first')\n",
    "priority_heuristic(experiment2, 'second')\n",
    "priority_heuristic(experiment3, 'third')"
   ]
  },
  {
   "cell_type": "markdown",
   "metadata": {},
   "source": [
    "We get:"
   ]
  },
  {
   "cell_type": "code",
   "execution_count": null,
   "metadata": {},
   "outputs": [],
   "source": [
    ""
   ]
  }
 ],
 "metadata": {
  "kernelspec": {
   "display_name": "Python 2",
   "language": "python",
   "name": "python2"
  },
  "language_info": {
   "codemirror_mode": {
    "name": "ipython",
    "version": 2.0
   },
   "file_extension": ".py",
   "mimetype": "text/x-python",
   "name": "python",
   "nbconvert_exporter": "python",
   "pygments_lexer": "ipython2",
   "version": "2.7.6"
  }
 },
 "nbformat": 4,
 "nbformat_minor": 0
}